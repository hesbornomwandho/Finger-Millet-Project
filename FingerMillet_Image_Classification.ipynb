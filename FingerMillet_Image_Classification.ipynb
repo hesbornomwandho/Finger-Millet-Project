{
 "cells": [
  {
   "cell_type": "code",
   "execution_count": 3,
   "id": "04c7b494-12e9-405b-8eaf-de173464ccc9",
   "metadata": {},
   "outputs": [],
   "source": [
    "# Importing packages \n",
    "\n",
    "from keras.models import Sequential\n",
    "from keras.layers import Convolution2D\n",
    "from keras.layers import Flatten\n",
    "from keras.layers import Dense\n",
    "from keras.layers import MaxPooling2D\n"
   ]
  },
  {
   "cell_type": "code",
   "execution_count": 67,
   "id": "3080b4bc-69ad-4d73-81ac-1744276ff08c",
   "metadata": {},
   "outputs": [
    {
     "name": "stdout",
     "output_type": "stream",
     "text": [
      "Collecting keras==2.3.1\n",
      "  Downloading Keras-2.3.1-py2.py3-none-any.whl (377 kB)\n",
      "\u001b[K     |████████████████████████████████| 377 kB 646 kB/s eta 0:00:01\n",
      "\u001b[?25hRequirement already satisfied: pip in /Users/hesborn/miniconda3/envs/CNN/lib/python3.9/site-packages (21.2.4)\n",
      "Collecting install\n",
      "  Downloading install-1.3.5-py3-none-any.whl (3.2 kB)\n",
      "\u001b[31mERROR: Could not find a version that satisfies the requirement tensorflow==1.14.0 (from versions: 2.5.0rc0, 2.5.0rc1, 2.5.0rc2, 2.5.0rc3, 2.5.0, 2.5.1, 2.5.2, 2.6.0rc0, 2.6.0rc1, 2.6.0rc2, 2.6.0, 2.6.1, 2.6.2, 2.7.0rc0, 2.7.0rc1, 2.7.0, 2.8.0rc0, 2.8.0rc1)\u001b[0m\n",
      "\u001b[31mERROR: No matching distribution found for tensorflow==1.14.0\u001b[0m\n",
      "Note: you may need to restart the kernel to use updated packages.\n"
     ]
    }
   ],
   "source": [
    "pip install keras==2.3.1 pip install tensorflow==1.14.0"
   ]
  },
  {
   "cell_type": "code",
   "execution_count": 4,
   "id": "32c00d77-01e8-412a-b7d3-2f2687972980",
   "metadata": {
    "tags": []
   },
   "outputs": [
    {
     "name": "stderr",
     "output_type": "stream",
     "text": [
      "2022-01-24 21:53:35.837477: I tensorflow/core/platform/cpu_feature_guard.cc:142] This TensorFlow binary is optimized with oneAPI Deep Neural Network Library (oneDNN) to use the following CPU instructions in performance-critical operations:  AVX2 FMA\n",
      "To enable them in other operations, rebuild TensorFlow with the appropriate compiler flags.\n"
     ]
    }
   ],
   "source": [
    "# Step 1 To intitialize CNN\n",
    "classifier = Sequential()"
   ]
  },
  {
   "cell_type": "code",
   "execution_count": 5,
   "id": "ab9c237e-5123-4e54-a89f-7eb5593e96f8",
   "metadata": {},
   "outputs": [],
   "source": [
    "# Step 2 adding the first convolutional layer and pooling layer\n",
    "classifier.add(Convolution2D(32,(3,3),input_shape = (250,250,1), activation = 'relu'))\n",
    "classifier.add(MaxPooling2D(pool_size = (2,2)))\n",
    "                             "
   ]
  },
  {
   "cell_type": "code",
   "execution_count": 6,
   "id": "24615373-6113-47c4-a2a8-eb9c9434c38a",
   "metadata": {},
   "outputs": [],
   "source": [
    "# step 3 adding second convolution layer and pooling layer\n",
    "classifier.add(Convolution2D(32,(3,3),input_shape = (250,250,1),activation ='relu'))\n",
    "classifier.add(MaxPooling2D(pool_size = (2,2)))"
   ]
  },
  {
   "cell_type": "code",
   "execution_count": 7,
   "id": "7e0457e2-e0e4-458a-b30a-0c96aee85534",
   "metadata": {},
   "outputs": [],
   "source": [
    "# Step 4 Flattening the layers\n",
    "classifier.add(Flatten())"
   ]
  },
  {
   "cell_type": "code",
   "execution_count": 8,
   "id": "dc4f0a4e-e1f4-42f7-879a-47ee039e7e65",
   "metadata": {},
   "outputs": [],
   "source": [
    "# Step 5 full connection\n",
    "classifier.add(Dense(units=32,activation = 'relu'))\n",
    "classifier.add(Dense(units=64,activation = 'relu'))\n",
    "classifier.add(Dense(units=128,activation = 'relu'))\n",
    "classifier.add(Dense(units=256,activation = 'relu'))\n",
    "classifier.add(Dense(units=6,activation = 'softmax'))\n",
    "\n"
   ]
  },
  {
   "cell_type": "code",
   "execution_count": 9,
   "id": "fd315ace-6ceb-4ebc-813e-6796a0586438",
   "metadata": {},
   "outputs": [],
   "source": [
    "# step 6 compilling CNN\n",
    "classifier.compile(optimizer ='adam',loss ='categorical_crossentropy', metrics = ['accuracy'])"
   ]
  },
  {
   "cell_type": "code",
   "execution_count": 11,
   "id": "d366cbe1-59e9-4649-8590-1782280ebe7d",
   "metadata": {},
   "outputs": [],
   "source": [
    "#step 7 fitting CNN to the images\n",
    "from keras.preprocessing.image import ImageDataGenerator"
   ]
  },
  {
   "cell_type": "code",
   "execution_count": 12,
   "id": "7ccc1ad8-0d7f-4143-92bc-1241ebef15a3",
   "metadata": {},
   "outputs": [],
   "source": [
    "train_datagen = ImageDataGenerator(rescale = 1./255,\n",
    "                                   shear_range = 0.2,\n",
    "                                   zoom_range = 0.2,\n",
    "                                   horizontal_flip = True)\n"
   ]
  },
  {
   "cell_type": "code",
   "execution_count": 13,
   "id": "821b97d6-b2fd-4518-a2e2-81eda4de0e5b",
   "metadata": {},
   "outputs": [],
   "source": [
    "test_datagen = ImageDataGenerator(rescale =1./255)"
   ]
  },
  {
   "cell_type": "code",
   "execution_count": 14,
   "id": "5432d273-b6b8-42f4-b236-110ae35282f8",
   "metadata": {},
   "outputs": [
    {
     "name": "stdout",
     "output_type": "stream",
     "text": [
      "Found 581 images belonging to 6 classes.\n"
     ]
    }
   ],
   "source": [
    "# step 8 appending labels of directories to the train images\n",
    "train_set = train_datagen.flow_from_directory('/Users/hesborn/Desktop/train/',\n",
    "                                                target_size = (250,250),\n",
    "                                                batch_size = 12,\n",
    "                                                class_mode = 'categorical')\n",
    "\n",
    "  \n",
    "                                                \n",
    "                                                "
   ]
  },
  {
   "cell_type": "code",
   "execution_count": 15,
   "id": "605a02b4-c380-4641-b3f0-f5cc5c1236fc",
   "metadata": {},
   "outputs": [
    {
     "name": "stdout",
     "output_type": "stream",
     "text": [
      "Found 227 images belonging to 6 classes.\n"
     ]
    }
   ],
   "source": [
    "# step 9 appending labels of directories to test images\n",
    "test_set = test_datagen.flow_from_directory('/Users/hesborn/Desktop/test/',\n",
    "                                                target_size = (250,250),\n",
    "                                                 batch_size = 12,\n",
    "                                                 class_mode = 'categorical')"
   ]
  },
  {
   "cell_type": "code",
   "execution_count": 23,
   "id": "6bb5715d-12aa-4a5c-a6e6-676ecbcda414",
   "metadata": {},
   "outputs": [
    {
     "ename": "SyntaxError",
     "evalue": "keyword argument repeated: validation_steps (2897585121.py, line 1)",
     "output_type": "error",
     "traceback": [
      "\u001b[0;36m  File \u001b[0;32m\"/var/folders/z4/bdsq3g0x0qz31f4j3b62byqh0000gn/T/ipykernel_56447/2897585121.py\"\u001b[0;36m, line \u001b[0;32m1\u001b[0m\n\u001b[0;31m    classifier.fit_generator(training_set,\u001b[0m\n\u001b[0m                            ^\u001b[0m\n\u001b[0;31mSyntaxError\u001b[0m\u001b[0;31m:\u001b[0m keyword argument repeated: validation_steps\n"
     ]
    }
   ],
   "source": [
    "classifier.fit_generator(training_set,\n",
    "                        steps_per_epoch=581,\n",
    "                        epochs=20,\n",
    "                        validation_steps = test_set,\n",
    "                        validation_steps = 227)\n"
   ]
  },
  {
   "cell_type": "code",
   "execution_count": null,
   "id": "df73a6e3-f1a7-4a97-8643-6bbe0236466a",
   "metadata": {},
   "outputs": [],
   "source": []
  },
  {
   "cell_type": "code",
   "execution_count": 46,
   "id": "7cd47885-fc1c-4250-a99b-da1d55a54fc4",
   "metadata": {},
   "outputs": [],
   "source": [
    "# step 9 saving the model\n",
    "classifier.save(\"model.h5\")"
   ]
  },
  {
   "cell_type": "code",
   "execution_count": null,
   "id": "a828a636-d3e6-411c-95ee-dcee425cf6d6",
   "metadata": {},
   "outputs": [],
   "source": []
  },
  {
   "cell_type": "code",
   "execution_count": null,
   "id": "d05a6e43-e12b-4984-82f7-4f852e94faba",
   "metadata": {},
   "outputs": [],
   "source": []
  },
  {
   "cell_type": "code",
   "execution_count": null,
   "id": "2901c21f-0431-4cdf-afa5-364cf85c5935",
   "metadata": {},
   "outputs": [],
   "source": []
  },
  {
   "cell_type": "code",
   "execution_count": null,
   "id": "31060245-3bad-4631-8cd7-6f3a8605da4f",
   "metadata": {},
   "outputs": [],
   "source": []
  },
  {
   "cell_type": "code",
   "execution_count": null,
   "id": "3cf339ee-c23a-4786-a7e1-28943194c6b5",
   "metadata": {},
   "outputs": [],
   "source": []
  },
  {
   "cell_type": "code",
   "execution_count": null,
   "id": "f398f9a7-394a-4e2b-8b0f-306af01f8461",
   "metadata": {},
   "outputs": [],
   "source": []
  }
 ],
 "metadata": {
  "kernelspec": {
   "display_name": "Python 3 (ipykernel)",
   "language": "python",
   "name": "python3"
  },
  "language_info": {
   "codemirror_mode": {
    "name": "ipython",
    "version": 3
   },
   "file_extension": ".py",
   "mimetype": "text/x-python",
   "name": "python",
   "nbconvert_exporter": "python",
   "pygments_lexer": "ipython3",
   "version": "3.9.13"
  }
 },
 "nbformat": 4,
 "nbformat_minor": 5
}
